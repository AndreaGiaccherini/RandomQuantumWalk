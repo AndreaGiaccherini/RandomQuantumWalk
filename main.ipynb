{
 "cells": [
  {
   "cell_type": "code",
   "execution_count": 3,
   "metadata": {},
   "outputs": [
    {
     "name": "stdout",
     "output_type": "stream",
     "text": [
      "0 [(0, 1.0)]\n",
      "1 [(-1, 0.4979), (1, 0.5022)]\n",
      "2 [(-2, 0.2469), (0, 0.496), (2, 0.2572)]\n",
      "3 [(-3, 0.125), (-1, 0.3731), (1, 0.3722), (3, 0.1298)]\n",
      "4 [(-4, 0.0633), (-2, 0.2471), (0, 0.3759), (2, 0.2512), (4, 0.0626)]\n",
      "0 [(0, 11111111.111111112)]\n",
      "1 [(-1, 2722500.0), (1, 2834733.4444444445)]\n",
      "2 [(-2, 662596.0), (0, 2835856.0), (2, 698338.7777777778)]\n",
      "3 [(-3, 176960.44444444444), (-1, 1517002.7777777778), (1, 1596853.4444444445), (3, 174445.44444444444)]\n",
      "4 [(-4, 47089.0), (-2, 644273.7777777778), (0, 1588440.111111111), (2, 711211.1111111111), (4, 44240.11111111111)]\n"
     ]
    }
   ],
   "source": [
    "import random\n",
    "import collections\n",
    "\n",
    "def count_values_classic(input_list,num_walkers):\n",
    "    counter = collections.Counter(input_list)\n",
    "    return sorted((val, counter[val]/num_walkers) for val in set(input_list))\n",
    "\n",
    "def count_values_MQ(input_list,num_walkers):\n",
    "    counter = collections.Counter(input_list)\n",
    "    return sorted((val, counter[val]*counter[val]/(num_walkers)**3) for val in set(input_list))\n",
    "\n",
    "\n",
    "def random_walk(num_steps=4, start=0, num_walkers=10000):\n",
    "    \"\"\"\n",
    "    1-Dimensional Random Walk simulation.\n",
    "\n",
    "    :param num_steps: The number of steps to simulate (default: 100)\n",
    "    :param start: Starting position (default: 0)\n",
    "    :return: A list containing the random walk's coordinates in the format [x, index].\n",
    "    \"\"\"\n",
    "\n",
    "    # Initialize walk with starting position\n",
    "    walk = [[ start for _ in range(num_walkers)]+[0]]\n",
    "\n",
    "    for k in range(1, num_steps + 1):\n",
    "        walk.append([k])\n",
    "        for walker in range(num_walkers+1):\n",
    "            # Append new position (x and index) to walk\n",
    "            walk[-1].append(walk[-2][walker] + random.choice([-1, 1]))\n",
    "\n",
    "    return walk\n",
    "\n",
    "# Example usage:\n",
    "num_walkers=10000\n",
    "for step in random_walk(4,0,num_walkers):\n",
    "    print(step[0],count_values_classic(step[1:],num_walkers))\n",
    "\n",
    "for step in random_walk(4,0,num_walkers):\n",
    "    print(step[0],count_values_MQ(step[1:],num_walkers))"
   ]
  }
 ],
 "metadata": {
  "kernelspec": {
   "display_name": "tf",
   "language": "python",
   "name": "python3"
  },
  "language_info": {
   "codemirror_mode": {
    "name": "ipython",
    "version": 3
   },
   "file_extension": ".py",
   "mimetype": "text/x-python",
   "name": "python",
   "nbconvert_exporter": "python",
   "pygments_lexer": "ipython3",
   "version": "3.12.3"
  }
 },
 "nbformat": 4,
 "nbformat_minor": 2
}
