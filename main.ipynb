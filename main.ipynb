{
 "cells": [
  {
   "cell_type": "code",
   "execution_count": 2,
   "metadata": {},
   "outputs": [
    {
     "name": "stdout",
     "output_type": "stream",
     "text": [
      "0 [(0, 1.0)]\n",
      "1 [(-1, 0.501), (1, 0.4991)]\n",
      "2 [(-2, 0.2446), (0, 0.5048), (2, 0.2507)]\n",
      "3 [(-3, 0.1198), (-1, 0.377), (1, 0.3797), (3, 0.1236)]\n",
      "4 [(-4, 0.0614), (-2, 0.2449), (0, 0.3839), (2, 0.2475), (4, 0.0624)]\n"
     ]
    }
   ],
   "source": [
    "import random\n",
    "import collections\n",
    "\n",
    "def count_values(input_list,num_walkers):\n",
    "    counter = collections.Counter(input_list)\n",
    "    return sorted((val, counter[val]/num_walkers) for val in set(input_list))\n",
    "\n",
    "def random_walk(num_steps=4, start=0, num_walkers=10000):\n",
    "    \"\"\"\n",
    "    1-Dimensional Random Walk simulation.\n",
    "\n",
    "    :param num_steps: The number of steps to simulate (default: 100)\n",
    "    :param start: Starting position (default: 0)\n",
    "    :return: A list containing the random walk's coordinates in the format [x, index].\n",
    "    \"\"\"\n",
    "\n",
    "    # Initialize walk with starting position\n",
    "    walk = [[ start for _ in range(num_walkers)]+[0]]\n",
    "\n",
    "    for k in range(1, num_steps + 1):\n",
    "        walk.append([k])\n",
    "        for walker in range(num_walkers+1):\n",
    "            # Append new position (x and index) to walk\n",
    "            walk[-1].append(walk[-2][walker] + random.choice([-1, 1]))\n",
    "\n",
    "    return walk\n",
    "\n",
    "# Example usage:\n",
    "num_walkers=10000\n",
    "for step in random_walk(4,0,num_walkers):\n",
    "    print(step[0],count_values(step[1:],num_walkers))"
   ]
  }
 ],
 "metadata": {
  "kernelspec": {
   "display_name": "tf",
   "language": "python",
   "name": "python3"
  },
  "language_info": {
   "codemirror_mode": {
    "name": "ipython",
    "version": 3
   },
   "file_extension": ".py",
   "mimetype": "text/x-python",
   "name": "python",
   "nbconvert_exporter": "python",
   "pygments_lexer": "ipython3",
   "version": "3.12.2"
  }
 },
 "nbformat": 4,
 "nbformat_minor": 2
}
